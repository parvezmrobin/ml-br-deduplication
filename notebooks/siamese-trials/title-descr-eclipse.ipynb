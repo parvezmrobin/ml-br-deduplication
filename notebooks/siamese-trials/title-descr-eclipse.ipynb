{
 "cells": [
  {
   "cell_type": "markdown",
   "metadata": {
    "collapsed": true,
    "pycharm": {
     "name": "#%% md\n"
    }
   },
   "source": [
    "# Identify Duplicate Bug Reports Using Siamese Cross-Encoder Network"
   ]
  },
  {
   "cell_type": "markdown",
   "source": [
    "## Load Data"
   ],
   "metadata": {
    "collapsed": false
   }
  },
  {
   "cell_type": "code",
   "execution_count": 1,
   "outputs": [],
   "source": [
    "import pandas as pd\n",
    "import numpy as np\n",
    "from pymongo import MongoClient\n",
    "from typing import List, Dict, Tuple, Set\n",
    "import itertools"
   ],
   "metadata": {
    "collapsed": false,
    "pycharm": {
     "name": "#%%\n"
    }
   }
  },
  {
   "cell_type": "code",
   "execution_count": 2,
   "outputs": [],
   "source": [
    "def load_dataset(limit=0, verbose=False):\n",
    "  client = MongoClient()\n",
    "  db = client['eclipse']\n",
    "  bug_collection = db['clear']\n",
    "  pairs_collection = db['pairs']\n",
    "\n",
    "  pairs: Tuple[Dict] = tuple(pairs_collection.find(limit=limit))\n",
    "  if verbose:\n",
    "    print('total pairs', len(pairs))\n",
    "  bug_groups = [[pair['bug1'], pair['bug2']] for pair in pairs]\n",
    "  candidate_bug_ids = [\n",
    "    str(bug_id)\n",
    "    for bug_group in bug_groups for bug_id in bug_group\n",
    "  ]\n",
    "  if verbose:\n",
    "    print('total candidate_bug_ids', len(candidate_bug_ids))\n",
    "\n",
    "  # Storing bug reports as dictionary so that they can be\n",
    "  # retrieved by bug_id\n",
    "  bug_reports: Dict[str, Dict] = {}\n",
    "  for bug_report in bug_collection.find({'bug_id': {'$in': candidate_bug_ids}}):\n",
    "    bug_reports[bug_report['bug_id']] = bug_report\n",
    "  if verbose:\n",
    "    print('total bug_reports', len(bug_reports))\n",
    "\n",
    "  return bug_reports, pairs"
   ],
   "metadata": {
    "collapsed": false,
    "pycharm": {
     "name": "#%%\n"
    }
   }
  },
  {
   "cell_type": "code",
   "execution_count": 3,
   "outputs": [],
   "source": [
    "def create_dataframe(bug_reports: Dict[str, Dict], pairs: Tuple[Dict]):\n",
    "  data = [\n",
    "    [\n",
    "      bug_reports[str(pair['bug1'])]['short_desc'],\n",
    "      bug_reports[str(pair['bug2'])]['short_desc'],\n",
    "      bug_reports[str(pair['bug1'])]['description'],\n",
    "      bug_reports[str(pair['bug2'])]['description'],\n",
    "      False if pair['dec'] == -1 else True]\n",
    "    for pair in pairs\n",
    "  ]\n",
    "\n",
    "  columns = ['title1', 'title2', 'description1', 'description2', 'is_similar']\n",
    "\n",
    "  return pd.DataFrame(data=data, columns=columns)"
   ],
   "metadata": {
    "collapsed": false,
    "pycharm": {
     "name": "#%%\n"
    }
   }
  },
  {
   "cell_type": "code",
   "execution_count": 4,
   "outputs": [],
   "source": [
    "def unidecode_str_cols(df: pd.DataFrame):\n",
    "  from unidecode import unidecode\n",
    "\n",
    "  def decode_col(col: pd.Series):\n",
    "    if pd.api.types.is_string_dtype(col.dtype):\n",
    "      # unidecode throws following weird error on empty string\n",
    "      # 'list' object has no attribute 'encode'\n",
    "      return col.apply(lambda sent: unidecode(sent) if sent else sent)\n",
    "    return col\n",
    "\n",
    "  return df.apply(decode_col)"
   ],
   "metadata": {
    "collapsed": false,
    "pycharm": {
     "name": "#%%\n"
    }
   }
  },
  {
   "cell_type": "code",
   "execution_count": 5,
   "outputs": [
    {
     "name": "stdout",
     "output_type": "stream",
     "text": [
      "Data shape: (271098, 5)\n"
     ]
    },
    {
     "data": {
      "text/plain": "                                                   title1  \\\n233357    Links on preference pages are opened in browser   \n265890    Getting NumberFormatException while running ANT   \n117082  NPE throws out when click on data item in layo...   \n121372  [Bugs] Renaming a query in History fails silently   \n115238                            [Xtext] NPE during link   \n44796                             dynamic pagebreak issue   \n59542             Support Bugzilla 3.0 custom resolutions   \n156949                   unclear NLS messages in spelling   \n159686  ClassNotPreparedException attempting to Displa...   \n126786  Do not default to VariableOneToOneMapping for ...   \n\n                                                   title2  \\\n233357                   FileDialog: File paths incorrect   \n265890         ANT build fails to display warning message   \n117082  [ui] Available software dialog should preserve...   \n121372   [search] Ability to scope the locations searched   \n115238                Please add cdamus to group emfadmin   \n44796            Modules support  in JEEDeployableFactory   \n59542   Warning logged about undefined tm.terminal com...   \n156949      Render breakpoints in context of debug target   \n159686  ClassNotLoadedException during conditional bre...   \n126786                Unexpected errors while reconciling   \n\n                                             description1  \\\n233357  Open the Preference Dialog\\nGo to the Java/Edi...   \n265890  I am getting this problem only in 3.1 versions...   \n117082  Created attachment 78045\\nreport design\\n\\nDes...   \n121372  The Rename menu command is available on a Quer...   \n115238  Created attachment 103039\\nProposed Patch\\n\\nV...   \n44796   Created attachment 101804\\nZip containing a re...   \n59542   It would be nice if custom resolutions were su...   \n156949  JavaUIMessages.properties:\\n\\nSpelling.error.c...   \n159686  1. Stepping through some code\\n\\n2. oddly, 'th...   \n126786  EclipseLink default interfaces to VariableOneT...   \n\n                                             description2  is_similar  \n233357  eclipse r2.0 (20020627) \\nredhat 7.3 (gtk)  \\n...       False  \n265890  I'm running external ANT v 1.6.1 under eclipse...        True  \n117082  1) When applying a filter in the available sof...       False  \n121372  It would be useful to have some way of scoping...       False  \n115238  In order to publish builds of components that ...       False  \n44796   Build ID: 3.4 M6\\n\\nSteps To Reproduce:\\norg.e...       False  \n59542   I don't recall seeing this in the log before, ...       False  \n156949  In conjunction with bug# 6213\\n\\nWhen only one...       False  \n159686  Build: M5 ++\\n\\nPut a breakpoint on line 4, \"S...        True  \n126786  Build 20020515\\n\\nIn self-hosted workspace, op...       False  ",
      "text/html": "<div>\n<style scoped>\n    .dataframe tbody tr th:only-of-type {\n        vertical-align: middle;\n    }\n\n    .dataframe tbody tr th {\n        vertical-align: top;\n    }\n\n    .dataframe thead th {\n        text-align: right;\n    }\n</style>\n<table border=\"1\" class=\"dataframe\">\n  <thead>\n    <tr style=\"text-align: right;\">\n      <th></th>\n      <th>title1</th>\n      <th>title2</th>\n      <th>description1</th>\n      <th>description2</th>\n      <th>is_similar</th>\n    </tr>\n  </thead>\n  <tbody>\n    <tr>\n      <th>233357</th>\n      <td>Links on preference pages are opened in browser</td>\n      <td>FileDialog: File paths incorrect</td>\n      <td>Open the Preference Dialog\\nGo to the Java/Edi...</td>\n      <td>eclipse r2.0 (20020627) \\nredhat 7.3 (gtk)  \\n...</td>\n      <td>False</td>\n    </tr>\n    <tr>\n      <th>265890</th>\n      <td>Getting NumberFormatException while running ANT</td>\n      <td>ANT build fails to display warning message</td>\n      <td>I am getting this problem only in 3.1 versions...</td>\n      <td>I'm running external ANT v 1.6.1 under eclipse...</td>\n      <td>True</td>\n    </tr>\n    <tr>\n      <th>117082</th>\n      <td>NPE throws out when click on data item in layo...</td>\n      <td>[ui] Available software dialog should preserve...</td>\n      <td>Created attachment 78045\\nreport design\\n\\nDes...</td>\n      <td>1) When applying a filter in the available sof...</td>\n      <td>False</td>\n    </tr>\n    <tr>\n      <th>121372</th>\n      <td>[Bugs] Renaming a query in History fails silently</td>\n      <td>[search] Ability to scope the locations searched</td>\n      <td>The Rename menu command is available on a Quer...</td>\n      <td>It would be useful to have some way of scoping...</td>\n      <td>False</td>\n    </tr>\n    <tr>\n      <th>115238</th>\n      <td>[Xtext] NPE during link</td>\n      <td>Please add cdamus to group emfadmin</td>\n      <td>Created attachment 103039\\nProposed Patch\\n\\nV...</td>\n      <td>In order to publish builds of components that ...</td>\n      <td>False</td>\n    </tr>\n    <tr>\n      <th>44796</th>\n      <td>dynamic pagebreak issue</td>\n      <td>Modules support  in JEEDeployableFactory</td>\n      <td>Created attachment 101804\\nZip containing a re...</td>\n      <td>Build ID: 3.4 M6\\n\\nSteps To Reproduce:\\norg.e...</td>\n      <td>False</td>\n    </tr>\n    <tr>\n      <th>59542</th>\n      <td>Support Bugzilla 3.0 custom resolutions</td>\n      <td>Warning logged about undefined tm.terminal com...</td>\n      <td>It would be nice if custom resolutions were su...</td>\n      <td>I don't recall seeing this in the log before, ...</td>\n      <td>False</td>\n    </tr>\n    <tr>\n      <th>156949</th>\n      <td>unclear NLS messages in spelling</td>\n      <td>Render breakpoints in context of debug target</td>\n      <td>JavaUIMessages.properties:\\n\\nSpelling.error.c...</td>\n      <td>In conjunction with bug# 6213\\n\\nWhen only one...</td>\n      <td>False</td>\n    </tr>\n    <tr>\n      <th>159686</th>\n      <td>ClassNotPreparedException attempting to Displa...</td>\n      <td>ClassNotLoadedException during conditional bre...</td>\n      <td>1. Stepping through some code\\n\\n2. oddly, 'th...</td>\n      <td>Build: M5 ++\\n\\nPut a breakpoint on line 4, \"S...</td>\n      <td>True</td>\n    </tr>\n    <tr>\n      <th>126786</th>\n      <td>Do not default to VariableOneToOneMapping for ...</td>\n      <td>Unexpected errors while reconciling</td>\n      <td>EclipseLink default interfaces to VariableOneT...</td>\n      <td>Build 20020515\\n\\nIn self-hosted workspace, op...</td>\n      <td>False</td>\n    </tr>\n  </tbody>\n</table>\n</div>"
     },
     "execution_count": 5,
     "metadata": {},
     "output_type": "execute_result"
    }
   ],
   "source": [
    "dup_df = unidecode_str_cols(create_dataframe(*load_dataset()))\n",
    "print('Data shape:', dup_df.shape)\n",
    "dup_df.sample(n=10, random_state=13)"
   ],
   "metadata": {
    "collapsed": false,
    "pycharm": {
     "name": "#%%\n"
    }
   }
  },
  {
   "cell_type": "code",
   "execution_count": 6,
   "outputs": [
    {
     "name": "stdout",
     "output_type": "stream",
     "text": [
      "Data Types:\n"
     ]
    },
    {
     "data": {
      "text/plain": "title1          object\ntitle2          object\ndescription1    object\ndescription2    object\nis_similar        bool\ndtype: object"
     },
     "execution_count": 6,
     "metadata": {},
     "output_type": "execute_result"
    }
   ],
   "source": [
    "print('Data Types:')\n",
    "dup_df.dtypes"
   ],
   "metadata": {
    "collapsed": false,
    "pycharm": {
     "name": "#%%\n"
    }
   }
  },
  {
   "cell_type": "code",
   "execution_count": 7,
   "outputs": [
    {
     "name": "stdout",
     "output_type": "stream",
     "text": [
      "Description of length of the feature columns\n"
     ]
    },
    {
     "data": {
      "text/plain": "              title1         title2   description1   description2\ncount  271098.000000  271098.000000  271098.000000  271098.000000\nmean       55.053542      55.119754    1460.756055    1453.384496\nstd        21.668583      21.671878    4302.386984    4174.773253\nmin         1.000000       1.000000       0.000000       0.000000\n25%        40.000000      40.000000     238.000000     239.000000\n50%        53.000000      53.000000     449.000000     450.000000\n75%        68.000000      68.000000     940.000000     943.000000\nmax       255.000000     255.000000  373075.000000  373075.000000",
      "text/html": "<div>\n<style scoped>\n    .dataframe tbody tr th:only-of-type {\n        vertical-align: middle;\n    }\n\n    .dataframe tbody tr th {\n        vertical-align: top;\n    }\n\n    .dataframe thead th {\n        text-align: right;\n    }\n</style>\n<table border=\"1\" class=\"dataframe\">\n  <thead>\n    <tr style=\"text-align: right;\">\n      <th></th>\n      <th>title1</th>\n      <th>title2</th>\n      <th>description1</th>\n      <th>description2</th>\n    </tr>\n  </thead>\n  <tbody>\n    <tr>\n      <th>count</th>\n      <td>271098.000000</td>\n      <td>271098.000000</td>\n      <td>271098.000000</td>\n      <td>271098.000000</td>\n    </tr>\n    <tr>\n      <th>mean</th>\n      <td>55.053542</td>\n      <td>55.119754</td>\n      <td>1460.756055</td>\n      <td>1453.384496</td>\n    </tr>\n    <tr>\n      <th>std</th>\n      <td>21.668583</td>\n      <td>21.671878</td>\n      <td>4302.386984</td>\n      <td>4174.773253</td>\n    </tr>\n    <tr>\n      <th>min</th>\n      <td>1.000000</td>\n      <td>1.000000</td>\n      <td>0.000000</td>\n      <td>0.000000</td>\n    </tr>\n    <tr>\n      <th>25%</th>\n      <td>40.000000</td>\n      <td>40.000000</td>\n      <td>238.000000</td>\n      <td>239.000000</td>\n    </tr>\n    <tr>\n      <th>50%</th>\n      <td>53.000000</td>\n      <td>53.000000</td>\n      <td>449.000000</td>\n      <td>450.000000</td>\n    </tr>\n    <tr>\n      <th>75%</th>\n      <td>68.000000</td>\n      <td>68.000000</td>\n      <td>940.000000</td>\n      <td>943.000000</td>\n    </tr>\n    <tr>\n      <th>max</th>\n      <td>255.000000</td>\n      <td>255.000000</td>\n      <td>373075.000000</td>\n      <td>373075.000000</td>\n    </tr>\n  </tbody>\n</table>\n</div>"
     },
     "execution_count": 7,
     "metadata": {},
     "output_type": "execute_result"
    }
   ],
   "source": [
    "FEATURES = ['title1', 'title2', 'description1', 'description2']\n",
    "print('Description of length of the feature columns')\n",
    "dup_df[FEATURES].apply(lambda col: col.str.len().describe())"
   ],
   "metadata": {
    "collapsed": false,
    "pycharm": {
     "name": "#%%\n"
    }
   }
  },
  {
   "cell_type": "code",
   "execution_count": 8,
   "outputs": [
    {
     "name": "stdout",
     "output_type": "stream",
     "text": [
      "Outliers by length:\n"
     ]
    },
    {
     "data": {
      "text/plain": "            title1       title2  description1  description2\niqr      28.000000    28.000000    702.000000    704.000000\ncount  4107.000000  4141.000000  37557.000000  37824.000000\nfrac      0.000406     0.000406      0.007352      0.007374",
      "text/html": "<div>\n<style scoped>\n    .dataframe tbody tr th:only-of-type {\n        vertical-align: middle;\n    }\n\n    .dataframe tbody tr th {\n        vertical-align: top;\n    }\n\n    .dataframe thead th {\n        text-align: right;\n    }\n</style>\n<table border=\"1\" class=\"dataframe\">\n  <thead>\n    <tr style=\"text-align: right;\">\n      <th></th>\n      <th>title1</th>\n      <th>title2</th>\n      <th>description1</th>\n      <th>description2</th>\n    </tr>\n  </thead>\n  <tbody>\n    <tr>\n      <th>iqr</th>\n      <td>28.000000</td>\n      <td>28.000000</td>\n      <td>702.000000</td>\n      <td>704.000000</td>\n    </tr>\n    <tr>\n      <th>count</th>\n      <td>4107.000000</td>\n      <td>4141.000000</td>\n      <td>37557.000000</td>\n      <td>37824.000000</td>\n    </tr>\n    <tr>\n      <th>frac</th>\n      <td>0.000406</td>\n      <td>0.000406</td>\n      <td>0.007352</td>\n      <td>0.007374</td>\n    </tr>\n  </tbody>\n</table>\n</div>"
     },
     "execution_count": 8,
     "metadata": {},
     "output_type": "execute_result"
    }
   ],
   "source": [
    "print('Outliers by length:')\n",
    "\n",
    "\n",
    "def count_tail_outliers(col: pd.Series):\n",
    "  lengths: pd.Series = col.str.len()\n",
    "  iqr = lengths.quantile(0.75) - lengths.quantile(0.25)\n",
    "  outlier_range = lengths.quantile(0.75) + 1.5 * iqr\n",
    "  outlier_count = sum(lengths > outlier_range)\n",
    "  return pd.Series({\n",
    "    'iqr': iqr,\n",
    "    'count': outlier_count,\n",
    "    'frac': outlier_range / len(lengths),\n",
    "  })\n",
    "\n",
    "\n",
    "dup_df[FEATURES].apply(count_tail_outliers)"
   ],
   "metadata": {
    "collapsed": false,
    "pycharm": {
     "name": "#%%\n"
    }
   }
  },
  {
   "cell_type": "markdown",
   "source": [
    "### Filter out entries of insuficient length"
   ],
   "metadata": {
    "collapsed": false
   }
  },
  {
   "cell_type": "code",
   "execution_count": 9,
   "outputs": [],
   "source": [
    "dup_df = dup_df[\n",
    "  (dup_df.title1.str.len() >= 10)\n",
    "  & (dup_df.title2.str.len() >= 10)\n",
    "  & (dup_df.description1.str.len() >= 50)\n",
    "  & (dup_df.description2.str.len() >= 50)\n",
    "  ]"
   ],
   "metadata": {
    "collapsed": false,
    "pycharm": {
     "name": "#%%\n"
    }
   }
  },
  {
   "cell_type": "code",
   "execution_count": 10,
   "outputs": [
    {
     "name": "stdout",
     "output_type": "stream",
     "text": [
      "Shape after drop: (256649, 5)\n"
     ]
    }
   ],
   "source": [
    "print('Shape after drop:', dup_df.shape)"
   ],
   "metadata": {
    "collapsed": false,
    "pycharm": {
     "name": "#%%\n"
    }
   }
  },
  {
   "cell_type": "code",
   "execution_count": 11,
   "outputs": [
    {
     "data": {
      "text/plain": "               count      frac\nis_similar                    \nFalse       748150.0  0.583014\nTrue        535095.0  0.416986",
      "text/html": "<div>\n<style scoped>\n    .dataframe tbody tr th:only-of-type {\n        vertical-align: middle;\n    }\n\n    .dataframe tbody tr th {\n        vertical-align: top;\n    }\n\n    .dataframe thead th {\n        text-align: right;\n    }\n</style>\n<table border=\"1\" class=\"dataframe\">\n  <thead>\n    <tr style=\"text-align: right;\">\n      <th></th>\n      <th>count</th>\n      <th>frac</th>\n    </tr>\n    <tr>\n      <th>is_similar</th>\n      <th></th>\n      <th></th>\n    </tr>\n  </thead>\n  <tbody>\n    <tr>\n      <th>False</th>\n      <td>748150.0</td>\n      <td>0.583014</td>\n    </tr>\n    <tr>\n      <th>True</th>\n      <td>535095.0</td>\n      <td>0.416986</td>\n    </tr>\n  </tbody>\n</table>\n</div>"
     },
     "execution_count": 11,
     "metadata": {},
     "output_type": "execute_result"
    }
   ],
   "source": [
    "dup_df.groupby(by='is_similar').apply(\n",
    "  lambda group: pd.Series({\n",
    "    'count': group.size,\n",
    "    'frac': len(group) / len(dup_df),\n",
    "  }),\n",
    ")"
   ],
   "metadata": {
    "collapsed": false,
    "pycharm": {
     "name": "#%%\n"
    }
   }
  },
  {
   "cell_type": "markdown",
   "source": [
    "## Train, Validation, Test Split"
   ],
   "metadata": {
    "collapsed": false
   }
  },
  {
   "cell_type": "code",
   "execution_count": 12,
   "outputs": [],
   "source": [
    "from sklearn.model_selection import train_test_split"
   ],
   "metadata": {
    "collapsed": false,
    "pycharm": {
     "name": "#%%\n"
    }
   }
  },
  {
   "cell_type": "code",
   "execution_count": 13,
   "outputs": [],
   "source": [
    "train_val_df, test_df = train_test_split(\n",
    "  dup_df,\n",
    "  test_size=20000,\n",
    "  stratify=dup_df.is_similar,\n",
    "  random_state=13,\n",
    ")"
   ],
   "metadata": {
    "collapsed": false,
    "pycharm": {
     "name": "#%%\n"
    }
   }
  },
  {
   "cell_type": "code",
   "execution_count": 14,
   "outputs": [],
   "source": [
    "train_df, val_df = train_test_split(\n",
    "  train_val_df,\n",
    "  test_size=20000,\n",
    "  stratify=train_val_df.is_similar,\n",
    "  random_state=13,\n",
    ")"
   ],
   "metadata": {
    "collapsed": false,
    "pycharm": {
     "name": "#%%\n"
    }
   }
  },
  {
   "cell_type": "code",
   "execution_count": 15,
   "outputs": [
    {
     "name": "stdout",
     "output_type": "stream",
     "text": [
      "Train Val Test Size: 216,649 20,000 20,000\n"
     ]
    }
   ],
   "source": [
    "print(f'Train Val Test Size: {len(train_df):,} {len(val_df):,} {len(test_df):,}')"
   ],
   "metadata": {
    "collapsed": false,
    "pycharm": {
     "name": "#%%\n"
    }
   }
  },
  {
   "cell_type": "markdown",
   "source": [
    "## Download & Prepare Embedding"
   ],
   "metadata": {
    "collapsed": false,
    "pycharm": {
     "name": "#%% md\n"
    }
   }
  },
  {
   "cell_type": "code",
   "execution_count": 16,
   "outputs": [],
   "source": [
    "import os\n",
    "os.environ['CUDA_VISIBLE_DEVICES'] = '-1'\n",
    "\n",
    "import tensorflow as tf\n",
    "import tensorflow.keras.utils as kutils\n",
    "from keras.layers.preprocessing.text_vectorization import TextVectorization"
   ],
   "metadata": {
    "collapsed": false,
    "pycharm": {
     "name": "#%%\n"
    }
   }
  },
  {
   "cell_type": "code",
   "execution_count": 17,
   "outputs": [
    {
     "name": "stdout",
     "output_type": "stream",
     "text": [
      "Word: , | Embedding length: 300 | Average embedding: -0.02834135199999997\n",
      "Word: the | Embedding length: 300 | Average embedding: -0.012646989333333348\n",
      "Word: . | Embedding length: 300 | Average embedding: -0.05447891\n",
      "Word: and | Embedding length: 300 | Average embedding: -0.054808682333333324\n",
      "Word: to | Embedding length: 300 | Average embedding: -0.0682633267666667\n"
     ]
    }
   ],
   "source": [
    "def ensure_glove_embedding(verbose=False):\n",
    "  import pathlib\n",
    "  embedding_data_path = kutils.get_file(\n",
    "    'glove.42B.300d.zip',\n",
    "    'https://nlp.stanford.edu/data/glove.42B.300d.zip',\n",
    "    untar=True,\n",
    "    extract=True,\n",
    "  )\n",
    "\n",
    "  # If this operation fails, print the parent-dir\n",
    "  # go there, and extract the file\n",
    "  file_path = pathlib.Path(embedding_data_path).parent / 'glove.42B.300d.txt'\n",
    "\n",
    "  if verbose:\n",
    "    with open(file_path, encoding='utf-8') as glove_embedding_file:\n",
    "      for i in range(5):\n",
    "        line = glove_embedding_file.readline()\n",
    "        word, *embedding = line.split()\n",
    "        print(\n",
    "          'Word:', word,\n",
    "          '| Embedding length:', len(embedding),\n",
    "          '| Average embedding:', sum(map(float, embedding)) / len(embedding),\n",
    "        )\n",
    "\n",
    "  return file_path\n",
    "\n",
    "\n",
    "glove_file_path = ensure_glove_embedding(verbose=True)"
   ],
   "metadata": {
    "collapsed": false,
    "pycharm": {
     "name": "#%%\n"
    }
   }
  },
  {
   "cell_type": "markdown",
   "source": [
    "### Create Embedding Index"
   ],
   "metadata": {
    "collapsed": false
   }
  },
  {
   "cell_type": "code",
   "execution_count": 18,
   "outputs": [
    {
     "data": {
      "text/plain": "  0%|          | 0/1917494 [00:00<?, ?it/s]",
      "application/vnd.jupyter.widget-view+json": {
       "version_major": 2,
       "version_minor": 0,
       "model_id": "cafafb92258a4fab8f5d48968a002dfe"
      }
     },
     "metadata": {},
     "output_type": "display_data"
    },
    {
     "name": "stdout",
     "output_type": "stream",
     "text": [
      "Found 1917494 words in the embedding.\n",
      "Embedding dimension: 300\n"
     ]
    }
   ],
   "source": [
    "def create_embedding_index(embedding_file_path: str, verbose=False):\n",
    "  if verbose:\n",
    "    from tqdm.notebook import tqdm\n",
    "\n",
    "    # there are 1.9M words, and we will update progress\n",
    "    # on every 1000 word read\n",
    "    progress_bar = tqdm(total=1917494)\n",
    "\n",
    "  embedding_index: Dict[str, np.ndarray] = {}\n",
    "  with open(embedding_file_path, encoding='utf-8') as embedding_file:\n",
    "    i = 0\n",
    "    for line in embedding_file:\n",
    "      i += 1\n",
    "      word, coefficients = line.split(maxsplit=1)\n",
    "      if i > 1917494:\n",
    "        print('word:', word)\n",
    "        break\n",
    "      coefficients = np.fromstring(coefficients, 'float', sep=' ')\n",
    "      embedding_index[word] = coefficients\n",
    "\n",
    "      if verbose:\n",
    "        if i % 1000 == 0:\n",
    "          progress_bar.update(1000)\n",
    "\n",
    "  if verbose:\n",
    "    progress_bar.close()\n",
    "\n",
    "  if verbose:\n",
    "    print(f'Found {len(embedding_index)} words in the embedding.')\n",
    "    print(f'Embedding dimension: {len(next(iter(embedding_index.values())))}')\n",
    "\n",
    "  return embedding_index\n",
    "\n",
    "\n",
    "embedding_index = create_embedding_index(glove_file_path, True)"
   ],
   "metadata": {
    "collapsed": false,
    "pycharm": {
     "name": "#%%\n"
    }
   }
  },
  {
   "cell_type": "markdown",
   "source": [
    "### Create Vocabulary Index"
   ],
   "metadata": {
    "collapsed": false,
    "pycharm": {
     "name": "#%% md\n"
    }
   }
  },
  {
   "cell_type": "code",
   "execution_count": 19,
   "outputs": [],
   "source": [
    "MAX_TOKENS = 20000\n",
    "MAX_TITLE_LENGTH = 21\n",
    "MAX_DESCRIPTION_LENGTH = 200\n",
    "EMBEDDING_DIM = 300"
   ],
   "metadata": {
    "collapsed": false,
    "pycharm": {
     "name": "#%%\n"
    }
   }
  },
  {
   "cell_type": "code",
   "execution_count": 20,
   "outputs": [],
   "source": [
    "def build_vocab(sentences: List[str], sequence_length: int):\n",
    "  vectorizer = TextVectorization(\n",
    "    max_tokens=MAX_TOKENS - 2,\n",
    "    output_sequence_length=sequence_length,\n",
    "  )\n",
    "  vectorizer.adapt(sentences)\n",
    "  vocab = vectorizer.get_vocabulary()\n",
    "  word_index = dict(zip(vocab, range(len(vocab))))\n",
    "\n",
    "  return vectorizer, word_index"
   ],
   "metadata": {
    "collapsed": false,
    "pycharm": {
     "name": "#%%\n"
    }
   }
  },
  {
   "cell_type": "code",
   "execution_count": 21,
   "outputs": [
    {
     "name": "stdout",
     "output_type": "stream",
     "text": [
      "Most frequent title words: ['', '[UNK]', 'in', 'to', 'not']\n"
     ]
    }
   ],
   "source": [
    "title_vectorizer, title_word_index = build_vocab(\n",
    "  [*dup_df.title1, *dup_df.title2],\n",
    "  MAX_TITLE_LENGTH,\n",
    ")\n",
    "\n",
    "print(\n",
    "  'Most frequent title words:',\n",
    "  list(itertools.islice(title_word_index.keys(), 5)),\n",
    ")"
   ],
   "metadata": {
    "collapsed": false,
    "pycharm": {
     "name": "#%%\n"
    }
   }
  },
  {
   "cell_type": "code",
   "execution_count": 22,
   "outputs": [
    {
     "name": "stdout",
     "output_type": "stream",
     "text": [
      "Most frequent description words: ['', '[UNK]', 'at', 'the', 'to']\n"
     ]
    }
   ],
   "source": [
    "descr_vectorizer, descr_word_index = build_vocab(\n",
    "  [*dup_df.description1, *dup_df.description2],\n",
    "  MAX_DESCRIPTION_LENGTH,\n",
    ")\n",
    "\n",
    "print(\n",
    "  'Most frequent description words:',\n",
    "  list(itertools.islice(descr_word_index.keys(), 5)),\n",
    ")"
   ],
   "metadata": {
    "collapsed": false,
    "pycharm": {
     "name": "#%%\n"
    }
   }
  },
  {
   "cell_type": "markdown",
   "source": [
    "### Create Embedding Matrix"
   ],
   "metadata": {
    "collapsed": false,
    "pycharm": {
     "name": "#%% md\n"
    }
   }
  },
  {
   "cell_type": "code",
   "execution_count": 23,
   "outputs": [],
   "source": [
    "def create_embedding_matrix(\n",
    "  embedding_index: Dict[str, np.ndarray],\n",
    "  word_index: Dict[str, int],\n",
    "  verbose=False,\n",
    "):\n",
    "  hits = 0\n",
    "  misses = 0\n",
    "\n",
    "  # prepare embedding matrix\n",
    "  embedding_matrix = np.zeros((MAX_TOKENS, EMBEDDING_DIM))\n",
    "  for word, i in word_index.items():\n",
    "    embedding_vector = embedding_index.get(word)\n",
    "    if embedding_vector is not None:\n",
    "      # Words not found in embedding index will be all-zeros.\n",
    "      # This includes the representation for \"padding\" and \"OOV\"\n",
    "      embedding_matrix[i] = embedding_vector\n",
    "      hits += 1\n",
    "    else:\n",
    "      misses += 1\n",
    "\n",
    "  if verbose:\n",
    "    print('Embedding shape:', embedding_matrix.shape)\n",
    "    print(f'Found {hits} words, missed {misses}.')\n",
    "\n",
    "  return embedding_matrix\n"
   ],
   "metadata": {
    "collapsed": false,
    "pycharm": {
     "name": "#%%\n"
    }
   }
  },
  {
   "cell_type": "code",
   "execution_count": 24,
   "outputs": [
    {
     "name": "stdout",
     "output_type": "stream",
     "text": [
      "Creating title embedding matrix:\n",
      "Embedding shape: (20000, 300)\n",
      "Found 12338 words, missed 7660.\n",
      "\n",
      "Creating description embedding matrix:\n",
      "Embedding shape: (20000, 300)\n",
      "Found 8533 words, missed 11465.\n"
     ]
    }
   ],
   "source": [
    "print('Creating title embedding matrix:')\n",
    "title_embedding_matrix = create_embedding_matrix(\n",
    "  embedding_index, title_word_index, True,\n",
    ")\n",
    "\n",
    "print('\\nCreating description embedding matrix:')\n",
    "descr_embedding_matrix = create_embedding_matrix(\n",
    "  embedding_index, descr_word_index, True,\n",
    ")"
   ],
   "metadata": {
    "collapsed": false,
    "pycharm": {
     "name": "#%%\n"
    }
   }
  },
  {
   "cell_type": "markdown",
   "source": [
    "## Prepare Training Data"
   ],
   "metadata": {
    "collapsed": false,
    "pycharm": {
     "name": "#%% md\n"
    }
   }
  },
  {
   "cell_type": "code",
   "execution_count": 25,
   "outputs": [],
   "source": [
    "def generate_batches(\n",
    "  split_df: pd.DataFrame,\n",
    "  batch_size=1024,\n",
    "):\n",
    "  steps_per_epoch = len(split_df) // batch_size\n",
    "  while True:\n",
    "    for i in range(steps_per_epoch):\n",
    "      offset = i * batch_size\n",
    "      till = offset + batch_size\n",
    "      feature_batches = []\n",
    "      for feature in FEATURES:\n",
    "        vectorizer = title_vectorizer if feature.startswith('title') else descr_vectorizer\n",
    "        feature_batch = vectorizer(\n",
    "          split_df[feature][offset: till].to_numpy().reshape((-1, 1))\n",
    "        ).numpy()\n",
    "        feature_batches.append(feature_batch)\n",
    "\n",
    "\n",
    "      target_batch = split_df.is_similar[offset: till].to_numpy()\n",
    "      yield (\n",
    "        feature_batches,\n",
    "        target_batch,\n",
    "      )"
   ],
   "metadata": {
    "collapsed": false,
    "pycharm": {
     "name": "#%%\n"
    }
   }
  },
  {
   "cell_type": "markdown",
   "source": [
    "## Create Models"
   ],
   "metadata": {
    "collapsed": false,
    "pycharm": {
     "name": "#%% md\n"
    }
   }
  },
  {
   "cell_type": "code",
   "execution_count": 26,
   "outputs": [],
   "source": [
    "from tensorflow.keras import layers\n",
    "from tensorflow.keras import models\n",
    "from tensorflow.keras import callbacks\n",
    "from keras.initializers.initializers_v2 import Constant"
   ],
   "metadata": {
    "collapsed": false,
    "pycharm": {
     "name": "#%%\n"
    }
   }
  },
  {
   "cell_type": "code",
   "execution_count": 27,
   "outputs": [],
   "source": [
    "TitleEmbeddingLayer = layers.Embedding(\n",
    "  input_dim=MAX_TOKENS,\n",
    "  output_dim=EMBEDDING_DIM,\n",
    "  embeddings_initializer=Constant(title_embedding_matrix),\n",
    "  trainable=False,\n",
    "  name='TitleEmbeddingLayer',\n",
    ")\n",
    "\n",
    "TitleLSTMLayer = layers.Bidirectional(layers.LSTM(\n",
    "  units=50,\n",
    "  dropout=0.2,\n",
    "  recurrent_dropout=0.2,\n",
    "), name='TitleBidirectionalLSTMLayer')\n",
    "\n",
    "DescrEmbeddingLayer = layers.Embedding(\n",
    "  input_dim=MAX_TOKENS,\n",
    "  output_dim=EMBEDDING_DIM,\n",
    "  embeddings_initializer=Constant(descr_embedding_matrix),\n",
    "  trainable=False,\n",
    "  name='DescrEmbeddingLayer',\n",
    ")\n",
    "\n",
    "def make_descr_layer(num, kernel_size=3, pool_size=2, strides=None):\n",
    "  DescrConv1dLayer = layers.Conv1D(\n",
    "    filters=32,\n",
    "    kernel_size=kernel_size,\n",
    "    activation='relu',\n",
    "    name=f'DescrConv1dLayer{num}',\n",
    "  )\n",
    "  DescrMaxPool1dLayer = layers.MaxPool1D(\n",
    "    pool_size=pool_size,\n",
    "    strides=strides,\n",
    "    name=f'DescrMaxPool1dLayer{num}',\n",
    "  )\n",
    "  return DescrConv1dLayer, DescrMaxPool1dLayer\n",
    "\n",
    "DescrConv1dLayer1, DescrMaxPool1dLayer1 = make_descr_layer(1, pool_size=4)\n",
    "DescrConv1dLayer2, DescrMaxPool1dLayer2 = make_descr_layer(2)"
   ],
   "metadata": {
    "collapsed": false,
    "pycharm": {
     "name": "#%%\n"
    }
   }
  },
  {
   "cell_type": "code",
   "execution_count": 30,
   "outputs": [
    {
     "data": {
      "image/png": "[encoded data removed]",
      "text/plain": "<IPython.core.display.Image object>"
     },
     "execution_count": 30,
     "metadata": {},
     "output_type": "execute_result"
    }
   ],
   "source": [
    "def create_siamese_component(num: int):\n",
    "  class SiameseComponent:\n",
    "    def __init__(self, title: layers.Input, description: layers.Input, output: layers.Concatenate):\n",
    "      self.title = title\n",
    "      self.description = description\n",
    "      self.output = output\n",
    "\n",
    "  title_input = layers.Input(shape=(None,), dtype='int32', name=f'title{num}_input')\n",
    "  title_embedding_layer = TitleEmbeddingLayer(title_input)\n",
    "  title_lstm_layer = TitleLSTMLayer(title_embedding_layer)\n",
    "\n",
    "  descr_input = layers.Input(shape=(None,), name=f'descr{num}_input')\n",
    "  descr_embedding_layer = DescrEmbeddingLayer(descr_input)\n",
    "  descr_conv1d1 = DescrConv1dLayer1(descr_embedding_layer)\n",
    "  descr_max_pool1d1 = DescrMaxPool1dLayer1(descr_conv1d1)\n",
    "  descr_conv1d2 = DescrConv1dLayer2(descr_max_pool1d1)\n",
    "  descr_max_pool1d2 = DescrMaxPool1dLayer2(descr_conv1d2)\n",
    "  # descr_conv1d3 = DescrConv1dLayer3(descr_max_pool1d2)\n",
    "  # descr_max_pool1d3 = DescrMaxPool1dLayer3(descr_conv1d3)\n",
    "  descr_flat_Layer = layers.Flatten(name=f'FlatDescr{num}')(descr_max_pool1d2)\n",
    "\n",
    "  concat = layers.Concatenate(axis=1, name=f'Concat{num}')([title_lstm_layer, descr_flat_Layer])\n",
    "  return SiameseComponent(title_input, descr_input, concat)\n",
    "\n",
    "\n",
    "component1 = create_siamese_component(1)\n",
    "component2 = create_siamese_component(2)\n",
    "\n",
    "dot_product_layer = layers.Dot(\n",
    "  axes=1,\n",
    "  name='dot_product_layer'\n",
    ")([component1.output, component2.output])\n",
    "output = layers.Dense(\n",
    "  1, activation='sigmoid', name='output',\n",
    ")(dot_product_layer)\n",
    "siamese_model = models.Model(\n",
    "  inputs=[component1.title, component2.title, component1.description, component2.description],\n",
    "  outputs=output,\n",
    "  name='siamese_model'\n",
    ")\n",
    "\n",
    "kutils.plot_model(siamese_model)"
   ],
   "metadata": {
    "collapsed": false,
    "pycharm": {
     "name": "#%%\n"
    }
   }
  },
  {
   "cell_type": "markdown",
   "source": [
    "### Train"
   ],
   "metadata": {
    "collapsed": false,
    "pycharm": {
     "name": "#%% md\n"
    }
   }
  },
  {
   "cell_type": "code",
   "execution_count": null,
   "outputs": [
    {
     "name": "stdout",
     "output_type": "stream",
     "text": [
      "Epoch 1/20\n",
      "  4/105 [>.............................] - ETA: 6:07 - loss: 0.6386 - acc: 0.5919"
     ]
    }
   ],
   "source": [
    "BATCH_SIZE = 2048\n",
    "\n",
    "siamese_model.compile(\n",
    "  loss='binary_crossentropy',\n",
    "  optimizer='adam',\n",
    "  metrics=['acc'],\n",
    ")\n",
    "callback = callbacks.ModelCheckpoint(\n",
    "    filepath=f'../../models/siamese'\n",
    "             '.epoch-{epoch:02d}-loss-{val_loss:.3f}.hdf5',\n",
    "    monitor='val_loss',\n",
    "    verbose=0,\n",
    "    save_best_only=True,\n",
    "    mode='min',\n",
    ")\n",
    "history = siamese_model.fit(\n",
    "  generate_batches(train_df, BATCH_SIZE),\n",
    "  steps_per_epoch=len(train_df) // BATCH_SIZE,\n",
    "  epochs=20,\n",
    "  validation_data=generate_batches(val_df, BATCH_SIZE),\n",
    "  validation_steps=len(val_df) // BATCH_SIZE,\n",
    "  verbose=1,\n",
    "  callbacks=[callback],\n",
    ")"
   ],
   "metadata": {
    "collapsed": false,
    "pycharm": {
     "name": "#%%\n",
     "is_executing": true
    }
   }
  },
  {
   "cell_type": "code",
   "execution_count": null,
   "outputs": [],
   "source": [
    "ax = pd.DataFrame(history.history).plot()"
   ],
   "metadata": {
    "collapsed": false,
    "pycharm": {
     "name": "#%%\n",
     "is_executing": true
    }
   }
  },
  {
   "cell_type": "code",
   "execution_count": null,
   "outputs": [],
   "source": [],
   "metadata": {
    "collapsed": false,
    "pycharm": {
     "name": "#%%\n"
    }
   }
  }
 ],
 "metadata": {
  "kernelspec": {
   "display_name": "Python 3",
   "language": "python",
   "name": "python3"
  },
  "language_info": {
   "codemirror_mode": {
    "name": "ipython",
    "version": 2
   },
   "file_extension": ".py",
   "mimetype": "text/x-python",
   "name": "python",
   "nbconvert_exporter": "python",
   "pygments_lexer": "ipython2",
   "version": "2.7.6"
  }
 },
 "nbformat": 4,
 "nbformat_minor": 0
}