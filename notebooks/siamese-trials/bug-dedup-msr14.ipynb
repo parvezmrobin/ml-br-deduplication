{
 "cells": [
  {
   "cell_type": "code",
   "execution_count": 1,
   "metadata": {},
   "outputs": [],
   "source": [
    "import pandas as pd\n",
    "import numpy as np\n",
    "import tensorflow as tf\n",
    "from pymongo import MongoClient"
   ]
  },
  {
   "cell_type": "code",
   "execution_count": 2,
   "metadata": {},
   "outputs": [],
   "source": [
    "def load_dataset(limit=0, verbose=False):\n",
    "  client = MongoClient()\n",
    "  db = client['eclipse']\n",
    "  bug_collection = db['clear']\n",
    "  pairs_collection = db['pairs']\n",
    "\n",
    "  pairs = tuple(pairs_collection.find(limit=limit))\n",
    "  if verbose:\n",
    "    print('pairs', len(pairs))\n",
    "  bug_groups = [[pair['bug1'], pair['bug2']] for pair in pairs]\n",
    "  candidate_bug_ids = [\n",
    "    str(bug_id)\n",
    "    for bug_group in bug_groups\n",
    "    for bug_id in bug_group\n",
    "  ]\n",
    "  if verbose:\n",
    "    print('candidate_bug_ids', len(candidate_bug_ids))\n",
    "  bug_reports = {}\n",
    "  for bug_report in bug_collection.find({'bug_id': {'$in': candidate_bug_ids}}):\n",
    "    bug_reports[bug_report['bug_id']] = bug_report\n",
    "  if verbose:\n",
    "    print('bug_reports', len(bug_reports))\n",
    "\n",
    "  data = [\n",
    "    [\n",
    "      bug_reports[str(pair['bug1'])]['short_desc'],\n",
    "      bug_reports[str(pair['bug2'])]['short_desc'],\n",
    "      0 if pair['dec'] == -1 else 1]\n",
    "    for pair in pairs\n",
    "  ]\n",
    "\n",
    "  return pd.DataFrame(data=data, columns=['sentences1', 'sentences2', 'is_similar'])\n",
    "\n",
    "\n",
    "dataset = load_dataset()"
   ]
  },
  {
   "cell_type": "code",
   "execution_count": 3,
   "metadata": {},
   "outputs": [
    {
     "name": "stdout",
     "output_type": "stream",
     "text": [
      "dataset.shape: (271098, 3)\n"
     ]
    },
    {
     "data": {
      "text/plain": "                                          sentences1  \\\n0  [update] could not load tasklist hyperlink det...   \n1  WSE hangs in external browser after invoking f...   \n2  [Regression]<Select value...> can not select a...   \n3                     Group completion options issue   \n4                                Add org.apache.bcel   \n5                       Support cube filter in chart   \n6  Max Rydahl Andersen's blog feed contains comments   \n7  [Regression] Highlight can not be added and th...   \n8  Notification e-mails not sent for committer el...   \n9  unable to reassign tasks if no permissions to ...   \n\n                                          sentences2  is_similar  \n0  [update] Sometimes but not selden i get the er...           1  \n1            Loading model aborts on non-fatal error           0  \n2  Select value in table filter condition panel d...           1  \n3  [Group Code Assist] No code completion for und...           1  \n4                 [api tooling] comments from Eugene           0  \n5  add API-3.0 and other common tags to project s...           0  \n6    Move my feed from blog.xam.dk to in.relation.to           1  \n7  Submitting task fails with invalid date / time...           0  \n8  [Regression] The error is of no default value ...           0  \n9    cmdbf services make eclipse-specific references           0  ",
      "text/html": "<div>\n<style scoped>\n    .dataframe tbody tr th:only-of-type {\n        vertical-align: middle;\n    }\n\n    .dataframe tbody tr th {\n        vertical-align: top;\n    }\n\n    .dataframe thead th {\n        text-align: right;\n    }\n</style>\n<table border=\"1\" class=\"dataframe\">\n  <thead>\n    <tr style=\"text-align: right;\">\n      <th></th>\n      <th>sentences1</th>\n      <th>sentences2</th>\n      <th>is_similar</th>\n    </tr>\n  </thead>\n  <tbody>\n    <tr>\n      <th>0</th>\n      <td>[update] could not load tasklist hyperlink det...</td>\n      <td>[update] Sometimes but not selden i get the er...</td>\n      <td>1</td>\n    </tr>\n    <tr>\n      <th>1</th>\n      <td>WSE hangs in external browser after invoking f...</td>\n      <td>Loading model aborts on non-fatal error</td>\n      <td>0</td>\n    </tr>\n    <tr>\n      <th>2</th>\n      <td>[Regression]&lt;Select value...&gt; can not select a...</td>\n      <td>Select value in table filter condition panel d...</td>\n      <td>1</td>\n    </tr>\n    <tr>\n      <th>3</th>\n      <td>Group completion options issue</td>\n      <td>[Group Code Assist] No code completion for und...</td>\n      <td>1</td>\n    </tr>\n    <tr>\n      <th>4</th>\n      <td>Add org.apache.bcel</td>\n      <td>[api tooling] comments from Eugene</td>\n      <td>0</td>\n    </tr>\n    <tr>\n      <th>5</th>\n      <td>Support cube filter in chart</td>\n      <td>add API-3.0 and other common tags to project s...</td>\n      <td>0</td>\n    </tr>\n    <tr>\n      <th>6</th>\n      <td>Max Rydahl Andersen's blog feed contains comments</td>\n      <td>Move my feed from blog.xam.dk to in.relation.to</td>\n      <td>1</td>\n    </tr>\n    <tr>\n      <th>7</th>\n      <td>[Regression] Highlight can not be added and th...</td>\n      <td>Submitting task fails with invalid date / time...</td>\n      <td>0</td>\n    </tr>\n    <tr>\n      <th>8</th>\n      <td>Notification e-mails not sent for committer el...</td>\n      <td>[Regression] The error is of no default value ...</td>\n      <td>0</td>\n    </tr>\n    <tr>\n      <th>9</th>\n      <td>unable to reassign tasks if no permissions to ...</td>\n      <td>cmdbf services make eclipse-specific references</td>\n      <td>0</td>\n    </tr>\n  </tbody>\n</table>\n</div>"
     },
     "execution_count": 3,
     "metadata": {},
     "output_type": "execute_result"
    }
   ],
   "source": [
    "print('dataset.shape:', dataset.shape)\n",
    "dataset.head(10)"
   ]
  },
  {
   "cell_type": "code",
   "execution_count": 4,
   "metadata": {},
   "outputs": [
    {
     "data": {
      "text/plain": "sentences1    object\nsentences2    object\nis_similar     int64\ndtype: object"
     },
     "execution_count": 4,
     "metadata": {},
     "output_type": "execute_result"
    }
   ],
   "source": [
    "dataset.dtypes"
   ]
  },
  {
   "cell_type": "code",
   "execution_count": 5,
   "metadata": {},
   "outputs": [
    {
     "data": {
      "text/plain": "(110181, 271098)"
     },
     "execution_count": 5,
     "metadata": {},
     "output_type": "execute_result"
    }
   ],
   "source": [
    "np.sum(dataset[\"is_similar\"]), len(dataset[\"is_similar\"])"
   ]
  },
  {
   "cell_type": "code",
   "execution_count": 6,
   "metadata": {},
   "outputs": [],
   "source": [
    "import gensim.downloader as api"
   ]
  },
  {
   "cell_type": "code",
   "execution_count": 7,
   "metadata": {},
   "outputs": [],
   "source": [
    "embedding_model = api.load(\"glove-wiki-gigaword-100\")"
   ]
  },
  {
   "cell_type": "code",
   "execution_count": 8,
   "metadata": {},
   "outputs": [
    {
     "data": {
      "text/plain": "[('yellow', 0.7358633279800415),\n ('red', 0.7140780091285706),\n ('blue', 0.7118036150932312),\n ('green', 0.7111418843269348),\n ('pink', 0.677507221698761),\n ('purple', 0.6774231791496277),\n ('black', 0.6709616780281067),\n ('colored', 0.665260910987854),\n ('lemon', 0.6251963973045349),\n ('peach', 0.6168624758720398)]"
     },
     "execution_count": 8,
     "metadata": {},
     "output_type": "execute_result"
    }
   ],
   "source": [
    "embedding_model.most_similar(\"orange\")"
   ]
  },
  {
   "cell_type": "code",
   "execution_count": 9,
   "metadata": {},
   "outputs": [
    {
     "data": {
      "text/plain": "100"
     },
     "execution_count": 9,
     "metadata": {},
     "output_type": "execute_result"
    }
   ],
   "source": [
    "len(embedding_model[\"president\"])"
   ]
  },
  {
   "cell_type": "code",
   "execution_count": 10,
   "metadata": {},
   "outputs": [],
   "source": [
    "def load_data(df):\n",
    "  sentences1 = df[\"sentences1\"].astype(str).values\n",
    "  sentences2 = df[\"sentences2\"].astype(str).values\n",
    "  #combine to get the tokens\n",
    "  df[\"combined\"] = df[\"sentences1\"] + df[\"sentences2\"]\n",
    "  labels = df[\"is_similar\"].values\n",
    "  return sentences1, sentences2, labels"
   ]
  },
  {
   "cell_type": "code",
   "execution_count": 11,
   "metadata": {},
   "outputs": [],
   "source": [
    "sentences1, sentences2, labels = load_data(dataset)"
   ]
  },
  {
   "cell_type": "code",
   "execution_count": 12,
   "metadata": {},
   "outputs": [
    {
     "data": {
      "text/plain": "('[update] could not load tasklist hyperlink detector extension',\n '[update] Sometimes but not selden i get the error: InteractionContextManager.getScalingFactors',\n 1)"
     },
     "execution_count": 12,
     "metadata": {},
     "output_type": "execute_result"
    }
   ],
   "source": [
    "sentences1[0], sentences2[0], labels[0]"
   ]
  },
  {
   "cell_type": "code",
   "execution_count": 13,
   "metadata": {},
   "outputs": [],
   "source": [
    "combined = list(sentences1) + list(sentences2)"
   ]
  },
  {
   "cell_type": "code",
   "execution_count": 14,
   "metadata": {},
   "outputs": [
    {
     "data": {
      "text/plain": "'[update] could not load tasklist hyperlink detector extension[update] Sometimes but not selden i get the error: InteractionContextManager.getScalingFactors'"
     },
     "execution_count": 14,
     "metadata": {},
     "output_type": "execute_result"
    }
   ],
   "source": [
    "dataset[\"combined\"][0]"
   ]
  },
  {
   "cell_type": "code",
   "execution_count": 15,
   "metadata": {},
   "outputs": [
    {
     "data": {
      "text/plain": "542196"
     },
     "execution_count": 15,
     "metadata": {},
     "output_type": "execute_result"
    }
   ],
   "source": [
    "len(combined)"
   ]
  },
  {
   "cell_type": "code",
   "execution_count": 16,
   "metadata": {},
   "outputs": [],
   "source": [
    "def clean_ascii(text):\n",
    "  return ''.join(i for i in text if ord(i) < 128)"
   ]
  },
  {
   "cell_type": "code",
   "execution_count": 17,
   "metadata": {},
   "outputs": [
    {
     "data": {
      "text/plain": "'Mad%sk'"
     },
     "execution_count": 17,
     "metadata": {},
     "output_type": "execute_result"
    }
   ],
   "source": [
    "cleaned = clean_ascii('Mad%sk')\n",
    "cleaned"
   ]
  },
  {
   "cell_type": "code",
   "execution_count": 18,
   "metadata": {},
   "outputs": [],
   "source": [
    "max_words = 10000\n",
    "embedding_dimension = 100"
   ]
  },
  {
   "cell_type": "code",
   "execution_count": 19,
   "metadata": {},
   "outputs": [],
   "source": [
    "from tensorflow.keras.preprocessing.text import Tokenizer"
   ]
  },
  {
   "cell_type": "code",
   "execution_count": 20,
   "metadata": {},
   "outputs": [],
   "source": [
    "from tensorflow.keras.preprocessing.sequence import pad_sequences"
   ]
  },
  {
   "cell_type": "code",
   "execution_count": 21,
   "metadata": {},
   "outputs": [],
   "source": [
    "tokenizer = Tokenizer(num_words=max_words, oov_token='<OOV>')"
   ]
  },
  {
   "cell_type": "code",
   "execution_count": 22,
   "metadata": {},
   "outputs": [],
   "source": [
    "tokenizer.fit_on_texts(combined)"
   ]
  },
  {
   "cell_type": "code",
   "execution_count": 23,
   "metadata": {},
   "outputs": [],
   "source": [
    "sequences = tokenizer.texts_to_sequences(combined)"
   ]
  },
  {
   "cell_type": "code",
   "execution_count": 24,
   "metadata": {},
   "outputs": [],
   "source": [
    "sequences_padded = pad_sequences(sequences, maxlen=300, padding='post')"
   ]
  },
  {
   "cell_type": "code",
   "execution_count": 25,
   "metadata": {},
   "outputs": [
    {
     "data": {
      "text/plain": "array([  36,  328,    4,  478, 2886,  934, 3769,  187,    0,    0])"
     },
     "execution_count": 25,
     "metadata": {},
     "output_type": "execute_result"
    }
   ],
   "source": [
    "sequences_padded[0, :10]"
   ]
  },
  {
   "cell_type": "code",
   "execution_count": 26,
   "outputs": [
    {
     "name": "stdout",
     "output_type": "stream",
     "text": [
      "emb_matrix.shape: (10000, 100)\n"
     ]
    }
   ],
   "source": [
    "#create embedding matrix\n",
    "def get_embedding_matrix():\n",
    "  embedding_matrix = np.zeros((max_words, embedding_dimension))\n",
    "  iteration_count = 0\n",
    "  for word, i in tokenizer.word_index.items():\n",
    "    iteration_count += 1\n",
    "    if i == max_words:\n",
    "      break\n",
    "    if embedding_model.has_index_for(word):\n",
    "      embedding_vector = embedding_model[word]\n",
    "      assert embedding_vector is not None\n",
    "      embedding_matrix[i] = embedding_vector\n",
    "  assert iteration_count == max_words, f'iteration_count:{iteration_count}'\n",
    "  return embedding_matrix\n",
    "\n",
    "\n",
    "emb_matrix = get_embedding_matrix()\n",
    "print('emb_matrix.shape:', emb_matrix.shape)"
   ],
   "metadata": {
    "collapsed": false,
    "pycharm": {
     "name": "#%%\n"
    }
   }
  },
  {
   "cell_type": "code",
   "execution_count": 27,
   "metadata": {},
   "outputs": [],
   "source": [
    "from tensorflow.keras.layers import Bidirectional, LSTM, Input, Lambda, Dense"
   ]
  },
  {
   "cell_type": "code",
   "execution_count": 28,
   "metadata": {},
   "outputs": [],
   "source": [
    "from tensorflow.keras.models import Model"
   ]
  },
  {
   "cell_type": "code",
   "execution_count": 29,
   "metadata": {},
   "outputs": [],
   "source": [
    "from sklearn.model_selection import train_test_split"
   ]
  },
  {
   "cell_type": "code",
   "execution_count": 30,
   "metadata": {},
   "outputs": [],
   "source": [
    "import tensorflow.keras.backend as K"
   ]
  },
  {
   "cell_type": "code",
   "execution_count": 31,
   "metadata": {},
   "outputs": [],
   "source": [
    "lstm_layer = Bidirectional(LSTM(10, dropout=0.2, recurrent_dropout=0.2))"
   ]
  },
  {
   "cell_type": "code",
   "execution_count": 32,
   "metadata": {},
   "outputs": [],
   "source": [
    "emb = tf.keras.layers.Embedding(max_words, embedding_dimension, input_length=300, weights=[emb_matrix],\n",
    "                                trainable=False)"
   ]
  },
  {
   "cell_type": "code",
   "execution_count": 33,
   "metadata": {},
   "outputs": [],
   "source": [
    "input1 = Input(shape=(300,), name=\"input1\")"
   ]
  },
  {
   "cell_type": "code",
   "execution_count": 34,
   "metadata": {},
   "outputs": [],
   "source": [
    "e1 = emb(input1)\n",
    "x1 = lstm_layer(e1)"
   ]
  },
  {
   "cell_type": "code",
   "execution_count": 35,
   "metadata": {},
   "outputs": [],
   "source": [
    "input2 = Input(shape=(300,), name=\"input2\")"
   ]
  },
  {
   "cell_type": "code",
   "execution_count": 36,
   "metadata": {},
   "outputs": [],
   "source": [
    "e2 = emb(input2)\n",
    "x2 = lstm_layer(e2)"
   ]
  },
  {
   "cell_type": "code",
   "execution_count": 37,
   "metadata": {},
   "outputs": [],
   "source": [
    "manhattan_distance = lambda x: tf.keras.backend.abs(x[0] - x[1])"
   ]
  },
  {
   "cell_type": "code",
   "execution_count": 38,
   "metadata": {},
   "outputs": [],
   "source": [
    "def euclidean_distance(x):\n",
    "  sumSquared = K.sum(K.square(x[0] - x[1]), axis=1,\n",
    "                     keepdims=True)\n",
    "  return K.sqrt(K.maximum(sumSquared, K.epsilon()))"
   ]
  },
  {
   "cell_type": "code",
   "execution_count": 39,
   "metadata": {},
   "outputs": [],
   "source": [
    "merged = Lambda(function=euclidean_distance, output_shape=lambda x: x[0], name=\"L1_distance\")([x1, x2])"
   ]
  },
  {
   "cell_type": "code",
   "execution_count": 40,
   "metadata": {},
   "outputs": [],
   "source": [
    "preds = Dense(1, activation=\"sigmoid\")(merged)"
   ]
  },
  {
   "cell_type": "code",
   "execution_count": 41,
   "metadata": {},
   "outputs": [],
   "source": [
    "model = Model(inputs=[input1, input2], outputs=preds)"
   ]
  },
  {
   "cell_type": "code",
   "execution_count": 42,
   "metadata": {},
   "outputs": [],
   "source": [
    "def contrastive_loss(y_true, y_pred):\n",
    "  y_true = tf.dtypes.cast(y_true, tf.float64)\n",
    "  y_pred = tf.dtypes.cast(y_pred, tf.float64)\n",
    "  margin = 1\n",
    "  square_pred = K.square(y_pred)\n",
    "  margin_square = K.square(K.maximum(margin - y_pred, 0))\n",
    "  return K.mean(y_true * square_pred + (1 - y_true) * margin_square)"
   ]
  },
  {
   "cell_type": "code",
   "execution_count": 43,
   "metadata": {},
   "outputs": [],
   "source": [
    "model.compile(loss=\"mse\", optimizer=\"adam\", metrics=[\"accuracy\"])"
   ]
  },
  {
   "cell_type": "code",
   "execution_count": 44,
   "metadata": {},
   "outputs": [
    {
     "name": "stdout",
     "output_type": "stream",
     "text": [
      "Model: \"model\"\n",
      "__________________________________________________________________________________________________\n",
      "Layer (type)                    Output Shape         Param #     Connected to                     \n",
      "==================================================================================================\n",
      "input1 (InputLayer)             [(None, 300)]        0                                            \n",
      "__________________________________________________________________________________________________\n",
      "input2 (InputLayer)             [(None, 300)]        0                                            \n",
      "__________________________________________________________________________________________________\n",
      "embedding (Embedding)           (None, 300, 100)     1000000     input1[0][0]                     \n",
      "                                                                 input2[0][0]                     \n",
      "__________________________________________________________________________________________________\n",
      "bidirectional (Bidirectional)   (None, 20)           8880        embedding[0][0]                  \n",
      "                                                                 embedding[1][0]                  \n",
      "__________________________________________________________________________________________________\n",
      "L1_distance (Lambda)            (None, 1)            0           bidirectional[0][0]              \n",
      "                                                                 bidirectional[1][0]              \n",
      "__________________________________________________________________________________________________\n",
      "dense (Dense)                   (None, 1)            2           L1_distance[0][0]                \n",
      "==================================================================================================\n",
      "Total params: 1,008,882\n",
      "Trainable params: 8,882\n",
      "Non-trainable params: 1,000,000\n",
      "__________________________________________________________________________________________________\n"
     ]
    }
   ],
   "source": [
    "model.summary()"
   ]
  },
  {
   "cell_type": "code",
   "execution_count": 45,
   "metadata": {},
   "outputs": [],
   "source": [
    "def create_data():\n",
    "  features, labels = dataset.drop(columns=[\"is_similar\", \"combined\"]).values, dataset[\"is_similar\"].values\n",
    "  x_train, x_test, y_train, y_test = train_test_split(features, labels, test_size=20000, random_state=42)\n",
    "  x_train, x_val, y_train, y_val = train_test_split(x_train, y_train, test_size=20000, random_state=42)\n",
    "  return x_train, y_train, x_test, y_test, x_val, y_val"
   ]
  },
  {
   "cell_type": "code",
   "execution_count": 46,
   "metadata": {},
   "outputs": [
    {
     "data": {
      "text/plain": "((231098, 2), (231098,), (20000, 2), (20000,), (20000, 2), (20000,))"
     },
     "execution_count": 46,
     "metadata": {},
     "output_type": "execute_result"
    }
   ],
   "source": [
    "x_train, y_train, x_test, y_test, x_val, y_val = create_data()\n",
    "x_train.shape, y_train.shape, x_test.shape, y_test.shape, x_val.shape, y_val.shape"
   ]
  },
  {
   "cell_type": "code",
   "execution_count": 47,
   "metadata": {},
   "outputs": [],
   "source": [
    "def convert_to_sequences(sentences):\n",
    "  sequences = tokenizer.texts_to_sequences(sentences)\n",
    "  seq_padded = pad_sequences(sequences, maxlen=300, padding=\"post\")\n",
    "  return seq_padded"
   ]
  },
  {
   "cell_type": "code",
   "execution_count": 48,
   "metadata": {},
   "outputs": [],
   "source": [
    "x_converted = convert_to_sequences(x_train[:, 0])"
   ]
  },
  {
   "cell_type": "code",
   "execution_count": 49,
   "metadata": {},
   "outputs": [
    {
     "data": {
      "text/plain": "(231098, 300)"
     },
     "execution_count": 49,
     "metadata": {},
     "output_type": "execute_result"
    }
   ],
   "source": [
    "x_converted.shape"
   ]
  },
  {
   "cell_type": "code",
   "execution_count": 50,
   "metadata": {},
   "outputs": [
    {
     "data": {
      "text/plain": "(231098,)"
     },
     "execution_count": 50,
     "metadata": {},
     "output_type": "execute_result"
    }
   ],
   "source": [
    "x_train[:, 0].shape"
   ]
  },
  {
   "cell_type": "code",
   "execution_count": null,
   "metadata": {
    "pycharm": {
     "is_executing": true
    }
   },
   "outputs": [
    {
     "name": "stdout",
     "output_type": "stream",
     "text": [
      "Epoch 1/10\n",
      "1806/1806 [==============================] - 3020s 2s/step - loss: 0.2386 - accuracy: 0.5989 - val_loss: 0.2309 - val_accuracy: 0.6302\n",
      "Epoch 2/10\n",
      "1544/1806 [========================>.....] - ETA: 8:37 - loss: 0.2244 - accuracy: 0.6476"
     ]
    }
   ],
   "source": [
    "history = model.fit(\n",
    "  [convert_to_sequences(x_train[:, 0]),\n",
    "   convert_to_sequences(x_train[:, 1])],\n",
    "  y_train,\n",
    "  batch_size=128,\n",
    "  epochs=10,\n",
    "  verbose=1,\n",
    "  validation_data=(\n",
    "    [convert_to_sequences(x_val[:, 0]), convert_to_sequences(x_val[:, 1])],\n",
    "    y_val,\n",
    "  ),\n",
    ")"
   ]
  },
  {
   "cell_type": "code",
   "execution_count": null,
   "metadata": {
    "pycharm": {
     "is_executing": true
    }
   },
   "outputs": [],
   "source": [
    "model.evaluate([convert_to_sequences(x_test[:, 0]), convert_to_sequences(x_test[:, 1])], y_test)"
   ]
  },
  {
   "cell_type": "code",
   "execution_count": null,
   "metadata": {
    "pycharm": {
     "is_executing": true
    }
   },
   "outputs": [],
   "source": [
    "import matplotlib.pyplot as plt"
   ]
  },
  {
   "cell_type": "code",
   "execution_count": null,
   "metadata": {
    "pycharm": {
     "is_executing": true
    }
   },
   "outputs": [],
   "source": [
    "history.model"
   ]
  },
  {
   "cell_type": "code",
   "execution_count": null,
   "metadata": {
    "pycharm": {
     "is_executing": true
    }
   },
   "outputs": [],
   "source": [
    "test_instance = x_test[3]"
   ]
  },
  {
   "cell_type": "code",
   "execution_count": null,
   "metadata": {
    "pycharm": {
     "is_executing": true
    }
   },
   "outputs": [],
   "source": [
    "test_instance[0], test_instance[1], y_test[3]"
   ]
  },
  {
   "cell_type": "code",
   "execution_count": null,
   "metadata": {
    "pycharm": {
     "is_executing": true
    }
   },
   "outputs": [],
   "source": [
    "test_label = y_test[0]"
   ]
  },
  {
   "cell_type": "code",
   "execution_count": null,
   "metadata": {
    "pycharm": {
     "is_executing": true
    }
   },
   "outputs": [],
   "source": [
    "model.predict([convert_to_sequences([test_instance[0]]), convert_to_sequences([test_instance[1]])])"
   ]
  },
  {
   "cell_type": "code",
   "execution_count": null,
   "metadata": {
    "pycharm": {
     "is_executing": true
    }
   },
   "outputs": [],
   "source": [
    "predicted = model.predict([convert_to_sequences(x_test[:, 0]), convert_to_sequences(x_test[:, 1])])"
   ]
  },
  {
   "cell_type": "code",
   "execution_count": null,
   "metadata": {
    "pycharm": {
     "is_executing": true
    }
   },
   "outputs": [],
   "source": [
    "predicted"
   ]
  },
  {
   "cell_type": "code",
   "execution_count": null,
   "metadata": {
    "pycharm": {
     "is_executing": true
    }
   },
   "outputs": [],
   "source": []
  }
 ],
 "metadata": {
  "kernelspec": {
   "display_name": "Python 3",
   "language": "python",
   "name": "python3"
  },
  "language_info": {
   "codemirror_mode": {
    "name": "ipython",
    "version": 3
   },
   "file_extension": ".py",
   "mimetype": "text/x-python",
   "name": "python",
   "nbconvert_exporter": "python",
   "pygments_lexer": "ipython3",
   "version": "3.8.5"
  }
 },
 "nbformat": 4,
 "nbformat_minor": 4
}