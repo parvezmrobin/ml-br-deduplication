{
 "cells": [
  {
   "cell_type": "code",
   "execution_count": 72,
   "metadata": {},
   "outputs": [],
   "source": [
    "import pandas as pd\n",
    "import numpy as np\n",
    "import tensorflow as tf"
   ]
  },
  {
   "cell_type": "code",
   "execution_count": 73,
   "metadata": {},
   "outputs": [],
   "source": [
    "dataset=pd.read_csv(\"sample_data.csv\", skipinitialspace=True)"
   ]
  },
  {
   "cell_type": "code",
   "execution_count": 74,
   "metadata": {},
   "outputs": [
    {
     "data": {
      "text/plain": "   id                                         sentences1  \\\n0   0  What is the step by step guide to invest in sh...   \n1   1  What is the story of Kohinoor (Koh-i-Noor) Dia...   \n2   2  How can I increase the speed of my internet co...   \n3   3  Why am I mentally very lonely? How can I solve...   \n4   4  Which one dissolve in water quikly sugar, salt...   \n5   5  Astrology: I am a Capricorn Sun Cap moon and c...   \n6   6                                Should I buy tiago?   \n7   7                     How can I be a good geologist?   \n8   8                    When do you use シ instead of し?   \n9   9  Motorola (company): Can I hack my Charter Moto...   \n\n                                          sentences2  is_similar  \n0  What is the step by step guide to invest in sh...           0  \n1  What would happen if the Indian government sto...           0  \n2  How can Internet speed be increased by hacking...           0  \n3  Find the remainder when [math]23^{24}[/math] i...           0  \n4            Which fish would survive in salt water?           0  \n5  I'm a triple Capricorn (Sun, Moon and ascendan...           1  \n6  What keeps childern active and far from phone ...           0  \n7          What should I do to be a great geologist?           1  \n8              When do you use \"&\" instead of \"and\"?           0  \n9  How do I hack Motorola DCX3400 for free internet?           0  ",
      "text/html": "<div>\n<style scoped>\n    .dataframe tbody tr th:only-of-type {\n        vertical-align: middle;\n    }\n\n    .dataframe tbody tr th {\n        vertical-align: top;\n    }\n\n    .dataframe thead th {\n        text-align: right;\n    }\n</style>\n<table border=\"1\" class=\"dataframe\">\n  <thead>\n    <tr style=\"text-align: right;\">\n      <th></th>\n      <th>id</th>\n      <th>sentences1</th>\n      <th>sentences2</th>\n      <th>is_similar</th>\n    </tr>\n  </thead>\n  <tbody>\n    <tr>\n      <th>0</th>\n      <td>0</td>\n      <td>What is the step by step guide to invest in sh...</td>\n      <td>What is the step by step guide to invest in sh...</td>\n      <td>0</td>\n    </tr>\n    <tr>\n      <th>1</th>\n      <td>1</td>\n      <td>What is the story of Kohinoor (Koh-i-Noor) Dia...</td>\n      <td>What would happen if the Indian government sto...</td>\n      <td>0</td>\n    </tr>\n    <tr>\n      <th>2</th>\n      <td>2</td>\n      <td>How can I increase the speed of my internet co...</td>\n      <td>How can Internet speed be increased by hacking...</td>\n      <td>0</td>\n    </tr>\n    <tr>\n      <th>3</th>\n      <td>3</td>\n      <td>Why am I mentally very lonely? How can I solve...</td>\n      <td>Find the remainder when [math]23^{24}[/math] i...</td>\n      <td>0</td>\n    </tr>\n    <tr>\n      <th>4</th>\n      <td>4</td>\n      <td>Which one dissolve in water quikly sugar, salt...</td>\n      <td>Which fish would survive in salt water?</td>\n      <td>0</td>\n    </tr>\n    <tr>\n      <th>5</th>\n      <td>5</td>\n      <td>Astrology: I am a Capricorn Sun Cap moon and c...</td>\n      <td>I'm a triple Capricorn (Sun, Moon and ascendan...</td>\n      <td>1</td>\n    </tr>\n    <tr>\n      <th>6</th>\n      <td>6</td>\n      <td>Should I buy tiago?</td>\n      <td>What keeps childern active and far from phone ...</td>\n      <td>0</td>\n    </tr>\n    <tr>\n      <th>7</th>\n      <td>7</td>\n      <td>How can I be a good geologist?</td>\n      <td>What should I do to be a great geologist?</td>\n      <td>1</td>\n    </tr>\n    <tr>\n      <th>8</th>\n      <td>8</td>\n      <td>When do you use シ instead of し?</td>\n      <td>When do you use \"&amp;\" instead of \"and\"?</td>\n      <td>0</td>\n    </tr>\n    <tr>\n      <th>9</th>\n      <td>9</td>\n      <td>Motorola (company): Can I hack my Charter Moto...</td>\n      <td>How do I hack Motorola DCX3400 for free internet?</td>\n      <td>0</td>\n    </tr>\n  </tbody>\n</table>\n</div>"
     },
     "execution_count": 74,
     "metadata": {},
     "output_type": "execute_result"
    }
   ],
   "source": [
    "dataset.head(10)"
   ]
  },
  {
   "cell_type": "code",
   "execution_count": 75,
   "metadata": {},
   "outputs": [
    {
     "data": {
      "text/plain": "id             int64\nsentences1    object\nsentences2    object\nis_similar     int64\ndtype: object"
     },
     "execution_count": 75,
     "metadata": {},
     "output_type": "execute_result"
    }
   ],
   "source": [
    "dataset.dtypes"
   ]
  },
  {
   "cell_type": "code",
   "execution_count": 76,
   "metadata": {},
   "outputs": [
    {
     "data": {
      "text/plain": "(188, 499)"
     },
     "execution_count": 76,
     "metadata": {},
     "output_type": "execute_result"
    }
   ],
   "source": [
    "np.sum(dataset[\"is_similar\"]), len(dataset[\"is_similar\"])"
   ]
  },
  {
   "cell_type": "code",
   "execution_count": 77,
   "metadata": {},
   "outputs": [],
   "source": [
    "import gensim.downloader as api"
   ]
  },
  {
   "cell_type": "code",
   "execution_count": 78,
   "metadata": {},
   "outputs": [],
   "source": [
    "embedding_model=api.load(\"glove-wiki-gigaword-100\")"
   ]
  },
  {
   "cell_type": "code",
   "execution_count": 79,
   "metadata": {},
   "outputs": [
    {
     "data": {
      "text/plain": "[('yellow', 0.7358633279800415),\n ('red', 0.7140780091285706),\n ('blue', 0.7118036150932312),\n ('green', 0.7111418843269348),\n ('pink', 0.677507221698761),\n ('purple', 0.6774231791496277),\n ('black', 0.6709616780281067),\n ('colored', 0.665260910987854),\n ('lemon', 0.6251963973045349),\n ('peach', 0.6168624758720398)]"
     },
     "execution_count": 79,
     "metadata": {},
     "output_type": "execute_result"
    }
   ],
   "source": [
    "embedding_model.most_similar(\"orange\")"
   ]
  },
  {
   "cell_type": "code",
   "execution_count": 80,
   "metadata": {},
   "outputs": [
    {
     "data": {
      "text/plain": "100"
     },
     "execution_count": 80,
     "metadata": {},
     "output_type": "execute_result"
    }
   ],
   "source": [
    "len(embedding_model[\"president\"])"
   ]
  },
  {
   "cell_type": "code",
   "execution_count": 81,
   "metadata": {},
   "outputs": [],
   "source": [
    "def load_data(df):\n",
    "    sentences1=df[\"sentences1\"].astype(str).values\n",
    "    sentences2=df[\"sentences2\"].astype(str).values\n",
    "    #combine to get the tokens\n",
    "    df[\"combined\"]=df[\"sentences1\"] + df[\"sentences2\"]\n",
    "    labels=df[\"is_similar\"].values\n",
    "    return sentences1, sentences2, labels"
   ]
  },
  {
   "cell_type": "code",
   "execution_count": 82,
   "metadata": {},
   "outputs": [],
   "source": [
    "sentences1, sentences2, labels=load_data(dataset)"
   ]
  },
  {
   "cell_type": "code",
   "execution_count": 83,
   "metadata": {},
   "outputs": [
    {
     "data": {
      "text/plain": "('What is the step by step guide to invest in share market in india?',\n 'What is the step by step guide to invest in share market?',\n 0)"
     },
     "execution_count": 83,
     "metadata": {},
     "output_type": "execute_result"
    }
   ],
   "source": [
    "sentences1[0], sentences2[0], labels[0]"
   ]
  },
  {
   "cell_type": "code",
   "execution_count": 84,
   "metadata": {},
   "outputs": [],
   "source": [
    "combined=list(sentences1) + list(sentences2)"
   ]
  },
  {
   "cell_type": "code",
   "execution_count": 85,
   "metadata": {},
   "outputs": [
    {
     "data": {
      "text/plain": "'What is the step by step guide to invest in share market in india?What is the step by step guide to invest in share market?'"
     },
     "execution_count": 85,
     "metadata": {},
     "output_type": "execute_result"
    }
   ],
   "source": [
    "dataset[\"combined\"][0]"
   ]
  },
  {
   "cell_type": "code",
   "execution_count": 86,
   "metadata": {},
   "outputs": [
    {
     "data": {
      "text/plain": "998"
     },
     "execution_count": 86,
     "metadata": {},
     "output_type": "execute_result"
    }
   ],
   "source": [
    "len(combined)"
   ]
  },
  {
   "cell_type": "code",
   "execution_count": 87,
   "metadata": {},
   "outputs": [],
   "source": [
    "def clean_ascii(text):\n",
    "    return ''.join( i for i in text if ord(i)<128)"
   ]
  },
  {
   "cell_type": "code",
   "execution_count": 88,
   "metadata": {},
   "outputs": [
    {
     "data": {
      "text/plain": "'Mad%sk'"
     },
     "execution_count": 88,
     "metadata": {},
     "output_type": "execute_result"
    }
   ],
   "source": [
    "cleaned = clean_ascii('Mad%sk')\n",
    "cleaned"
   ]
  },
  {
   "cell_type": "code",
   "execution_count": 89,
   "metadata": {},
   "outputs": [],
   "source": [
    "max_words=10000"
   ]
  },
  {
   "cell_type": "code",
   "execution_count": 90,
   "metadata": {},
   "outputs": [],
   "source": [
    "from tensorflow.keras.preprocessing.text import Tokenizer"
   ]
  },
  {
   "cell_type": "code",
   "execution_count": 91,
   "metadata": {},
   "outputs": [],
   "source": [
    "from tensorflow.keras.preprocessing.sequence import pad_sequences"
   ]
  },
  {
   "cell_type": "code",
   "execution_count": 92,
   "metadata": {},
   "outputs": [],
   "source": [
    "tokenizer = Tokenizer(num_words=max_words, oov_token='<OOV>')"
   ]
  },
  {
   "cell_type": "code",
   "execution_count": 93,
   "metadata": {},
   "outputs": [],
   "source": [
    "tokenizer.fit_on_texts(combined)"
   ]
  },
  {
   "cell_type": "code",
   "execution_count": 94,
   "metadata": {},
   "outputs": [],
   "source": [
    "sequences=tokenizer.texts_to_sequences(combined)"
   ]
  },
  {
   "cell_type": "code",
   "execution_count": 95,
   "metadata": {},
   "outputs": [],
   "source": [
    "sequences_padded=pad_sequences(sequences, maxlen=300, padding='post')"
   ]
  },
  {
   "cell_type": "code",
   "execution_count": 96,
   "metadata": {},
   "outputs": [],
   "source": [
    "sequences_padded[0];"
   ]
  },
  {
   "cell_type": "code",
   "execution_count": 97,
   "metadata": {},
   "outputs": [
    {
     "data": {
      "text/plain": "(10000, 100)"
     },
     "execution_count": 97,
     "metadata": {},
     "output_type": "execute_result"
    }
   ],
   "source": [
    "embedding_dimension=100\n",
    "embedding_matrix=np.zeros((max_words, embedding_dimension))\n",
    "embedding_matrix.shape"
   ]
  },
  {
   "cell_type": "code",
   "execution_count": 98,
   "metadata": {},
   "outputs": [],
   "source": [
    "#create embedding matrix\n",
    "def get_embedding_matrix():\n",
    "    for word, i in tokenizer.word_index.items():\n",
    "        if embedding_model.has_index_for(word):\n",
    "            embedding_vector=embedding_model[word]\n",
    "            if embedding_vector is not None:\n",
    "                embedding_matrix[i]=embedding_vector\n",
    "    return embedding_matrix"
   ]
  },
  {
   "cell_type": "code",
   "execution_count": 99,
   "metadata": {},
   "outputs": [],
   "source": [
    "emb_matrix=get_embedding_matrix()"
   ]
  },
  {
   "cell_type": "code",
   "execution_count": 100,
   "metadata": {},
   "outputs": [
    {
     "data": {
      "text/plain": "(10000, 100)"
     },
     "execution_count": 100,
     "metadata": {},
     "output_type": "execute_result"
    }
   ],
   "source": [
    "emb_matrix.shape"
   ]
  },
  {
   "cell_type": "code",
   "execution_count": 101,
   "metadata": {},
   "outputs": [],
   "source": [
    "from tensorflow.keras.layers import Bidirectional, LSTM, Input, Lambda, Dense"
   ]
  },
  {
   "cell_type": "code",
   "execution_count": 102,
   "metadata": {},
   "outputs": [],
   "source": [
    "from tensorflow.keras.models import Model"
   ]
  },
  {
   "cell_type": "code",
   "execution_count": 103,
   "metadata": {},
   "outputs": [],
   "source": [
    "from sklearn.model_selection import train_test_split"
   ]
  },
  {
   "cell_type": "code",
   "execution_count": 104,
   "metadata": {},
   "outputs": [],
   "source": [
    "import tensorflow.keras.backend as K"
   ]
  },
  {
   "cell_type": "code",
   "execution_count": 105,
   "metadata": {},
   "outputs": [],
   "source": [
    "lstm_layer=Bidirectional(LSTM(10, dropout=0.2, recurrent_dropout=0.2))"
   ]
  },
  {
   "cell_type": "code",
   "execution_count": 106,
   "metadata": {},
   "outputs": [
    {
     "data": {
      "text/plain": "keras.layers.wrappers.Bidirectional"
     },
     "execution_count": 106,
     "metadata": {},
     "output_type": "execute_result"
    }
   ],
   "source": [
    "type(lstm_layer)"
   ]
  },
  {
   "cell_type": "code",
   "execution_count": 107,
   "metadata": {},
   "outputs": [],
   "source": [
    "emb = tf.keras.layers.Embedding(max_words, embedding_dimension, input_length=300, weights=[embedding_matrix],trainable=False)"
   ]
  },
  {
   "cell_type": "code",
   "execution_count": 108,
   "metadata": {},
   "outputs": [],
   "source": [
    "input1=Input(shape=(300,), name=\"input1\")"
   ]
  },
  {
   "cell_type": "code",
   "execution_count": 109,
   "metadata": {},
   "outputs": [],
   "source": [
    "e1=emb(input1)\n",
    "x1=lstm_layer(e1)"
   ]
  },
  {
   "cell_type": "code",
   "execution_count": 110,
   "metadata": {},
   "outputs": [],
   "source": [
    "input2=Input(shape=(300,), name=\"input2\")"
   ]
  },
  {
   "cell_type": "code",
   "execution_count": 111,
   "metadata": {},
   "outputs": [],
   "source": [
    "e2=emb(input2)\n",
    "x2=lstm_layer(e2)"
   ]
  },
  {
   "cell_type": "code",
   "execution_count": 112,
   "metadata": {},
   "outputs": [],
   "source": [
    "manhattan_distance=lambda x: tf.keras.backend.abs(x[0] - x[1])"
   ]
  },
  {
   "cell_type": "code",
   "execution_count": 113,
   "metadata": {},
   "outputs": [],
   "source": [
    "def euclidean_distance(x):\n",
    "\tsumSquared = K.sum(K.square(x[0] - x[1]), axis=1,\n",
    "\t\tkeepdims=True)\n",
    "\treturn K.sqrt(K.maximum(sumSquared, K.epsilon()))"
   ]
  },
  {
   "cell_type": "code",
   "execution_count": 114,
   "metadata": {},
   "outputs": [],
   "source": [
    "?euclidean_distance"
   ]
  },
  {
   "cell_type": "code",
   "execution_count": 115,
   "metadata": {},
   "outputs": [],
   "source": [
    "merged = Lambda(function=euclidean_distance, output_shape=lambda x: x[0],  name=\"L1_distance\")([x1, x2])"
   ]
  },
  {
   "cell_type": "code",
   "execution_count": 116,
   "metadata": {},
   "outputs": [],
   "source": [
    "preds=Dense(1, activation=\"sigmoid\")(merged)"
   ]
  },
  {
   "cell_type": "code",
   "execution_count": 117,
   "metadata": {},
   "outputs": [],
   "source": [
    "model=Model(inputs=[input1, input2], outputs=preds)"
   ]
  },
  {
   "cell_type": "code",
   "execution_count": 118,
   "metadata": {},
   "outputs": [],
   "source": [
    "def contrastive_loss(y_true, y_pred):\n",
    "    y_true=tf.dtypes.cast(y_true, tf.float64)\n",
    "    y_pred=tf.dtypes.cast(y_pred, tf.float64)\n",
    "    margin = 1\n",
    "    square_pred = K.square(y_pred)\n",
    "    margin_square = K.square(K.maximum(margin - y_pred, 0))\n",
    "    return K.mean(y_true * square_pred + (1 - y_true) * margin_square)"
   ]
  },
  {
   "cell_type": "code",
   "execution_count": 119,
   "metadata": {},
   "outputs": [],
   "source": [
    "model.compile(loss=\"mse\", optimizer=\"adam\",  metrics=[\"accuracy\"])"
   ]
  },
  {
   "cell_type": "code",
   "execution_count": 120,
   "metadata": {},
   "outputs": [],
   "source": [
    "model.compile(loss=contrastive_loss, optimizer=\"adam\",  metrics=[\"accuracy\"])"
   ]
  },
  {
   "cell_type": "code",
   "execution_count": 121,
   "metadata": {},
   "outputs": [
    {
     "name": "stdout",
     "output_type": "stream",
     "text": [
      "Model: \"model_1\"\n",
      "__________________________________________________________________________________________________\n",
      " Layer (type)                   Output Shape         Param #     Connected to                     \n",
      "==================================================================================================\n",
      " input1 (InputLayer)            [(None, 300)]        0           []                               \n",
      "                                                                                                  \n",
      " input2 (InputLayer)            [(None, 300)]        0           []                               \n",
      "                                                                                                  \n",
      " embedding_1 (Embedding)        (None, 300, 100)     1000000     ['input1[0][0]',                 \n",
      "                                                                  'input2[0][0]']                 \n",
      "                                                                                                  \n",
      " bidirectional_1 (Bidirectional  (None, 20)          8880        ['embedding_1[0][0]',            \n",
      " )                                                                'embedding_1[1][0]']            \n",
      "                                                                                                  \n",
      " L1_distance (Lambda)           (None, 1)            0           ['bidirectional_1[0][0]',        \n",
      "                                                                  'bidirectional_1[1][0]']        \n",
      "                                                                                                  \n",
      " dense_1 (Dense)                (None, 1)            2           ['L1_distance[0][0]']            \n",
      "                                                                                                  \n",
      "==================================================================================================\n",
      "Total params: 1,008,882\n",
      "Trainable params: 8,882\n",
      "Non-trainable params: 1,000,000\n",
      "__________________________________________________________________________________________________\n"
     ]
    }
   ],
   "source": [
    "model.summary()"
   ]
  },
  {
   "cell_type": "code",
   "execution_count": 122,
   "metadata": {},
   "outputs": [],
   "source": [
    "def create_data():\n",
    "    features, labels=dataset.drop(columns=[\"id\",\"is_similar\",\"combined\"]).values, dataset[\"is_similar\"].values\n",
    "    x_train, x_test, y_train, y_test=train_test_split(features, labels, test_size=0.2, random_state=42)\n",
    "    x_train, x_val, y_train, y_val=train_test_split(x_train, y_train, test_size=0.25, random_state=42)\n",
    "    return x_train, y_train, x_test, y_test, x_val, y_val"
   ]
  },
  {
   "cell_type": "code",
   "execution_count": 123,
   "metadata": {},
   "outputs": [],
   "source": [
    "x_train, y_train, x_test,y_test, x_val, y_val=create_data()"
   ]
  },
  {
   "cell_type": "code",
   "execution_count": 124,
   "metadata": {},
   "outputs": [],
   "source": [
    "def convert_to_sequences(sentences):\n",
    "    sequences=tokenizer.texts_to_sequences(sentences)\n",
    "    seq_padded=pad_sequences(sequences, maxlen=300, padding=\"post\")\n",
    "    return seq_padded"
   ]
  },
  {
   "cell_type": "code",
   "execution_count": 125,
   "metadata": {},
   "outputs": [],
   "source": [
    "x_converted=convert_to_sequences(x_train[:,0])"
   ]
  },
  {
   "cell_type": "code",
   "execution_count": 126,
   "metadata": {},
   "outputs": [
    {
     "data": {
      "text/plain": "(299, 300)"
     },
     "execution_count": 126,
     "metadata": {},
     "output_type": "execute_result"
    }
   ],
   "source": [
    "x_converted.shape"
   ]
  },
  {
   "cell_type": "code",
   "execution_count": 127,
   "metadata": {},
   "outputs": [
    {
     "data": {
      "text/plain": "(299,)"
     },
     "execution_count": 127,
     "metadata": {},
     "output_type": "execute_result"
    }
   ],
   "source": [
    "x_train[:,0].shape"
   ]
  },
  {
   "cell_type": "code",
   "execution_count": 128,
   "metadata": {},
   "outputs": [
    {
     "name": "stdout",
     "output_type": "stream",
     "text": [
      "Epoch 1/10\n",
      "10/10 [==============================] - 8s 264ms/step - loss: 0.2367 - accuracy: 0.3880 - val_loss: 0.2389 - val_accuracy: 0.4100\n",
      "Epoch 2/10\n",
      "10/10 [==============================] - 2s 216ms/step - loss: 0.2331 - accuracy: 0.3880 - val_loss: 0.2371 - val_accuracy: 0.4100\n",
      "Epoch 3/10\n",
      "10/10 [==============================] - 2s 201ms/step - loss: 0.2331 - accuracy: 0.3880 - val_loss: 0.2373 - val_accuracy: 0.4100\n",
      "Epoch 4/10\n",
      "10/10 [==============================] - 2s 218ms/step - loss: 0.2335 - accuracy: 0.3880 - val_loss: 0.2379 - val_accuracy: 0.4100\n",
      "Epoch 5/10\n",
      "10/10 [==============================] - 2s 199ms/step - loss: 0.2298 - accuracy: 0.3880 - val_loss: 0.2373 - val_accuracy: 0.4100\n",
      "Epoch 6/10\n",
      "10/10 [==============================] - 2s 216ms/step - loss: 0.2317 - accuracy: 0.3880 - val_loss: 0.2374 - val_accuracy: 0.4100\n",
      "Epoch 7/10\n",
      "10/10 [==============================] - 2s 203ms/step - loss: 0.2274 - accuracy: 0.3880 - val_loss: 0.2370 - val_accuracy: 0.4100\n",
      "Epoch 8/10\n",
      "10/10 [==============================] - 2s 204ms/step - loss: 0.2254 - accuracy: 0.3880 - val_loss: 0.2367 - val_accuracy: 0.4100\n",
      "Epoch 9/10\n",
      "10/10 [==============================] - 2s 223ms/step - loss: 0.2281 - accuracy: 0.3880 - val_loss: 0.2361 - val_accuracy: 0.4100\n",
      "Epoch 10/10\n",
      "10/10 [==============================] - 2s 235ms/step - loss: 0.2257 - accuracy: 0.3880 - val_loss: 0.2355 - val_accuracy: 0.4100\n"
     ]
    }
   ],
   "source": [
    "history=model.fit([convert_to_sequences(x_train[:,0]), \n",
    "                   convert_to_sequences(x_train[:,1])], \n",
    "                  y_train, epochs=10, verbose=1,\n",
    "                  validation_data=([\n",
    "                      convert_to_sequences(x_val[:,0]),\n",
    "                      convert_to_sequences(x_val[:,1])], y_val))"
   ]
  },
  {
   "cell_type": "code",
   "execution_count": 129,
   "metadata": {},
   "outputs": [
    {
     "name": "stdout",
     "output_type": "stream",
     "text": [
      "4/4 [==============================] - 0s 35ms/step - loss: 0.2199 - accuracy: 0.3100\n"
     ]
    },
    {
     "data": {
      "text/plain": "[0.21987484395503998, 0.3100000023841858]"
     },
     "execution_count": 129,
     "metadata": {},
     "output_type": "execute_result"
    }
   ],
   "source": [
    "model.evaluate([convert_to_sequences(x_test[:,0]), convert_to_sequences(x_test[:,1])], y_test)"
   ]
  },
  {
   "cell_type": "code",
   "execution_count": 130,
   "metadata": {},
   "outputs": [],
   "source": [
    "import matplotlib.pyplot as plt"
   ]
  },
  {
   "cell_type": "code",
   "execution_count": 131,
   "metadata": {},
   "outputs": [
    {
     "data": {
      "text/plain": "<keras.engine.functional.Functional at 0x1f5cbd13460>"
     },
     "execution_count": 131,
     "metadata": {},
     "output_type": "execute_result"
    }
   ],
   "source": [
    "history.model"
   ]
  },
  {
   "cell_type": "code",
   "execution_count": 132,
   "metadata": {},
   "outputs": [
    {
     "data": {
      "text/plain": "<tf.Variable 'bidirectional_1/forward_lstm_1/lstm_cell_4/bias:0' shape=(40,) dtype=float32, numpy=\narray([-4.40658390e-04, -3.10018193e-04, -1.21247569e-04, -5.58193242e-05,\n       -9.37078294e-05, -9.06131390e-05, -4.24698141e-04, -1.14506714e-04,\n       -1.18305557e-04,  1.28492570e-06,  9.99420762e-01,  9.99589086e-01,\n        9.99849021e-01,  9.99929786e-01,  9.99915481e-01,  9.99858797e-01,\n        9.99516606e-01,  9.99843121e-01,  9.99836385e-01,  1.00002789e+00,\n        6.25121361e-03, -2.66479235e-03, -3.01838876e-03, -3.05540022e-03,\n        3.15140979e-03, -1.92969292e-03, -1.50299538e-03, -2.53746682e-03,\n        9.14265634e-04,  5.39921457e-03, -4.40717267e-04, -3.10077856e-04,\n       -1.21275662e-04, -5.59139844e-05, -9.36218639e-05, -9.05395646e-05,\n       -4.24642581e-04, -1.14596325e-04, -1.18449374e-04,  1.29601801e-06],\n      dtype=float32)>"
     },
     "execution_count": 132,
     "metadata": {},
     "output_type": "execute_result"
    }
   ],
   "source": [
    "model.weights[3]"
   ]
  },
  {
   "cell_type": "code",
   "execution_count": 133,
   "metadata": {},
   "outputs": [],
   "source": [
    "test_instance=x_test[3]"
   ]
  },
  {
   "cell_type": "code",
   "execution_count": 134,
   "metadata": {},
   "outputs": [
    {
     "data": {
      "text/plain": "('Which is the best fixed income fund?',\n 'What is the best fixed income fund?',\n 1)"
     },
     "execution_count": 134,
     "metadata": {},
     "output_type": "execute_result"
    }
   ],
   "source": [
    "test_instance[0], test_instance[1], y_test[3]"
   ]
  },
  {
   "cell_type": "code",
   "execution_count": 135,
   "metadata": {},
   "outputs": [],
   "source": [
    "test_label=y_test[0]"
   ]
  },
  {
   "cell_type": "code",
   "execution_count": 136,
   "metadata": {},
   "outputs": [
    {
     "data": {
      "text/plain": "array([[0.6100971]], dtype=float32)"
     },
     "execution_count": 136,
     "metadata": {},
     "output_type": "execute_result"
    }
   ],
   "source": [
    "model.predict([convert_to_sequences([test_instance[0]]), convert_to_sequences([test_instance[1]])])"
   ]
  },
  {
   "cell_type": "code",
   "execution_count": 137,
   "metadata": {},
   "outputs": [],
   "source": [
    "predicted = model.predict([convert_to_sequences(x_test[:,0]), convert_to_sequences(x_test[:,1])])"
   ]
  },
  {
   "cell_type": "code",
   "execution_count": 138,
   "metadata": {},
   "outputs": [
    {
     "data": {
      "text/plain": "array([[0.62034684],\n       [0.65968287],\n       [0.6531271 ],\n       [0.6100971 ],\n       [0.62533605],\n       [0.5335964 ],\n       [0.5897736 ],\n       [0.6226137 ],\n       [0.57938975],\n       [0.6035603 ],\n       [0.5703286 ],\n       [0.6092944 ],\n       [0.53517056],\n       [0.5648673 ],\n       [0.5569642 ],\n       [0.74707615],\n       [0.555616  ],\n       [0.5366752 ],\n       [0.6280457 ],\n       [0.51855916],\n       [0.6834405 ],\n       [0.56233984],\n       [0.6059477 ],\n       [0.54446745],\n       [0.5507968 ],\n       [0.6023898 ],\n       [0.58029217],\n       [0.615251  ],\n       [0.5547946 ],\n       [0.5795827 ],\n       [0.5302872 ],\n       [0.68535596],\n       [0.6994402 ],\n       [0.66497123],\n       [0.563051  ],\n       [0.5633359 ],\n       [0.521888  ],\n       [0.65115464],\n       [0.58998597],\n       [0.6226219 ],\n       [0.6408579 ],\n       [0.5965718 ],\n       [0.67808485],\n       [0.5593966 ],\n       [0.6050842 ],\n       [0.52781814],\n       [0.65829605],\n       [0.5903394 ],\n       [0.618196  ],\n       [0.7021117 ],\n       [0.5725602 ],\n       [0.62477666],\n       [0.5324576 ],\n       [0.58252233],\n       [0.5891309 ],\n       [0.6098887 ],\n       [0.54978114],\n       [0.5923329 ],\n       [0.53482956],\n       [0.71920794],\n       [0.533389  ],\n       [0.68990886],\n       [0.6219105 ],\n       [0.6688788 ],\n       [0.6023813 ],\n       [0.5266553 ],\n       [0.5084384 ],\n       [0.5500045 ],\n       [0.6312332 ],\n       [0.558203  ],\n       [0.6943644 ],\n       [0.5291412 ],\n       [0.6469582 ],\n       [0.6270737 ],\n       [0.6068174 ],\n       [0.5474596 ],\n       [0.5679345 ],\n       [0.59407943],\n       [0.68557787],\n       [0.55301094],\n       [0.60616386],\n       [0.59221786],\n       [0.6014413 ],\n       [0.55487007],\n       [0.5651155 ],\n       [0.5740401 ],\n       [0.63493055],\n       [0.5580257 ],\n       [0.57586384],\n       [0.5407019 ],\n       [0.62009794],\n       [0.5476686 ],\n       [0.56278974],\n       [0.5700177 ],\n       [0.6849519 ],\n       [0.6211729 ],\n       [0.6011515 ],\n       [0.5507976 ],\n       [0.56871665],\n       [0.53067416]], dtype=float32)"
     },
     "execution_count": 138,
     "metadata": {},
     "output_type": "execute_result"
    }
   ],
   "source": [
    "predicted"
   ]
  },
  {
   "cell_type": "code",
   "execution_count": 138,
   "metadata": {},
   "outputs": [],
   "source": []
  }
 ],
 "metadata": {
  "kernelspec": {
   "display_name": "Python 3",
   "language": "python",
   "name": "python3"
  },
  "language_info": {
   "codemirror_mode": {
    "name": "ipython",
    "version": 3
   },
   "file_extension": ".py",
   "mimetype": "text/x-python",
   "name": "python",
   "nbconvert_exporter": "python",
   "pygments_lexer": "ipython3",
   "version": "3.8.5"
  }
 },
 "nbformat": 4,
 "nbformat_minor": 4
}